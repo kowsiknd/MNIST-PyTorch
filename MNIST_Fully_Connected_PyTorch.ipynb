{
  "nbformat": 4,
  "nbformat_minor": 0,
  "metadata": {
    "colab": {
      "name": "MNIST Fully Connected - PyTorch.ipynb",
      "provenance": [],
      "collapsed_sections": [],
      "mount_file_id": "1HO4mCswey7GwqZQ0wBnfbrxB7FVUsDqe",
      "authorship_tag": "ABX9TyMGZTflP+eeWP6cKloXuEbR",
      "include_colab_link": true
    },
    "kernelspec": {
      "name": "python3",
      "display_name": "Python 3"
    },
    "language_info": {
      "name": "python"
    }
  },
  "cells": [
    {
      "cell_type": "markdown",
      "metadata": {
        "id": "view-in-github",
        "colab_type": "text"
      },
      "source": [
        "<a href=\"https://colab.research.google.com/github/kowsiknd/MNIST-PyTorch/blob/main/MNIST_Fully_Connected_PyTorch.ipynb\" target=\"_parent\"><img src=\"https://colab.research.google.com/assets/colab-badge.svg\" alt=\"Open In Colab\"/></a>"
      ]
    },
    {
      "cell_type": "code",
      "metadata": {
        "id": "7-UNIVXO-noV"
      },
      "source": [
        "import torch\n",
        "import torchvision as tv\n",
        "import torch.nn as nn\n",
        "import torch.nn.functional as F\n",
        "\n",
        "import matplotlib.pyplot as plt\n",
        "%matplotlib inline"
      ],
      "execution_count": 1,
      "outputs": []
    },
    {
      "cell_type": "code",
      "metadata": {
        "colab": {
          "base_uri": "https://localhost:8080/",
          "height": 35
        },
        "id": "jRt5Dsn0_f3f",
        "outputId": "2764d28d-35dc-4cec-951d-cebd231db438"
      },
      "source": [
        "torch.__version__"
      ],
      "execution_count": 2,
      "outputs": [
        {
          "output_type": "execute_result",
          "data": {
            "application/vnd.google.colaboratory.intrinsic+json": {
              "type": "string"
            },
            "text/plain": [
              "'1.9.0+cu102'"
            ]
          },
          "metadata": {},
          "execution_count": 2
        }
      ]
    },
    {
      "cell_type": "code",
      "metadata": {
        "id": "5VOr4bFb_1pb",
        "colab": {
          "base_uri": "https://localhost:8080/"
        },
        "outputId": "6a268a1a-496d-4975-a14b-ee1aedd439f1"
      },
      "source": [
        "%mkdir data"
      ],
      "execution_count": 3,
      "outputs": [
        {
          "output_type": "stream",
          "name": "stdout",
          "text": [
            "mkdir: cannot create directory ‘data’: File exists\n"
          ]
        }
      ]
    },
    {
      "cell_type": "markdown",
      "metadata": {
        "id": "j3_1HLXQBgUG"
      },
      "source": [
        "Loading Datasets"
      ]
    },
    {
      "cell_type": "code",
      "metadata": {
        "colab": {
          "base_uri": "https://localhost:8080/"
        },
        "id": "SuSWdeTp_iV-",
        "outputId": "59d2038e-1b54-4527-e6a1-92242c73d14d"
      },
      "source": [
        "dataset = tv.datasets.MNIST(root='data/', download=True, transform=tv.transforms.ToTensor())"
      ],
      "execution_count": 4,
      "outputs": [
        {
          "output_type": "stream",
          "name": "stderr",
          "text": [
            "/usr/local/lib/python3.7/dist-packages/torchvision/datasets/mnist.py:498: UserWarning: The given NumPy array is not writeable, and PyTorch does not support non-writeable tensors. This means you can write to the underlying (supposedly non-writeable) NumPy array using the tensor. You may want to copy the array to protect its data or make it writeable before converting it to a tensor. This type of warning will be suppressed for the rest of this program. (Triggered internally at  /pytorch/torch/csrc/utils/tensor_numpy.cpp:180.)\n",
            "  return torch.from_numpy(parsed.astype(m[2], copy=False)).view(*s)\n"
          ]
        }
      ]
    },
    {
      "cell_type": "code",
      "metadata": {
        "colab": {
          "base_uri": "https://localhost:8080/"
        },
        "id": "KzTZ5yZjABY9",
        "outputId": "2ceda460-b0eb-4135-a8c9-49910a433294"
      },
      "source": [
        "type(dataset)"
      ],
      "execution_count": 5,
      "outputs": [
        {
          "output_type": "execute_result",
          "data": {
            "text/plain": [
              "torchvision.datasets.mnist.MNIST"
            ]
          },
          "metadata": {},
          "execution_count": 5
        }
      ]
    },
    {
      "cell_type": "code",
      "metadata": {
        "colab": {
          "base_uri": "https://localhost:8080/",
          "height": 300
        },
        "id": "uKdV5wKkAMA-",
        "outputId": "d395ab11-86c5-4c75-8ecf-9574728758ca"
      },
      "source": [
        "image, label = dataset[0]\n",
        "print (image.shape)\n",
        "plt.imshow(image.squeeze(0), cmap=\"gray\") # Squeezed to remove the first dimension from 1 * 28 * 28\n",
        "plt.show()\n",
        "print (label)\n"
      ],
      "execution_count": 6,
      "outputs": [
        {
          "output_type": "stream",
          "name": "stdout",
          "text": [
            "torch.Size([1, 28, 28])\n"
          ]
        },
        {
          "output_type": "display_data",
          "data": {
            "image/png": "[encoded data removed]",
            "text/plain": [
              "<Figure size 432x288 with 1 Axes>"
            ]
          },
          "metadata": {
            "needs_background": "light"
          }
        },
        {
          "output_type": "stream",
          "name": "stdout",
          "text": [
            "5\n"
          ]
        }
      ]
    },
    {
      "cell_type": "markdown",
      "metadata": {
        "id": "C3-vm3i1BkZU"
      },
      "source": [
        "Total samples in dataset"
      ]
    },
    {
      "cell_type": "code",
      "metadata": {
        "colab": {
          "base_uri": "https://localhost:8080/"
        },
        "id": "ZkmzKVOwA30x",
        "outputId": "3861e0ea-cf95-4e0b-f0cb-7a1a1fd04ebe"
      },
      "source": [
        "len(dataset)"
      ],
      "execution_count": 7,
      "outputs": [
        {
          "output_type": "execute_result",
          "data": {
            "text/plain": [
              "60000"
            ]
          },
          "metadata": {},
          "execution_count": 7
        }
      ]
    },
    {
      "cell_type": "markdown",
      "metadata": {
        "id": "FzMdEXV9CNss"
      },
      "source": [
        "Hyper parameters"
      ]
    },
    {
      "cell_type": "code",
      "metadata": {
        "id": "NV3cv6VVBcwk"
      },
      "source": [
        "val_size = 1000\n",
        "train_size = len(dataset) - val_size\n",
        "batch_size = 32"
      ],
      "execution_count": 8,
      "outputs": []
    },
    {
      "cell_type": "code",
      "metadata": {
        "id": "HJf1kMU_CR05"
      },
      "source": [
        "train_ds, val_ds = torch.utils.data.random_split(dataset, [train_size, val_size])"
      ],
      "execution_count": 9,
      "outputs": []
    },
    {
      "cell_type": "code",
      "metadata": {
        "id": "nExX2uYhCqWK"
      },
      "source": [
        "from torch.utils.data import DataLoader"
      ],
      "execution_count": 10,
      "outputs": []
    },
    {
      "cell_type": "code",
      "metadata": {
        "id": "oRaHx4R0CgGL"
      },
      "source": [
        "train_loader = DataLoader(\n",
        "    train_ds,\n",
        "    batch_size=batch_size,\n",
        "    shuffle=True,\n",
        "    # pin_memory, num_workers\n",
        ")\n",
        "\n",
        "val_loader = DataLoader(\n",
        "    val_ds,\n",
        "    batch_size=batch_size,\n",
        "    shuffle=True,\n",
        "    # pin_memory, num_workers\n",
        ")"
      ],
      "execution_count": 11,
      "outputs": []
    },
    {
      "cell_type": "code",
      "metadata": {
        "colab": {
          "base_uri": "https://localhost:8080/",
          "height": 181
        },
        "id": "Tj5swTVCDf9K",
        "outputId": "19446d10-7b4e-4ad1-bd77-04f5a1d3c008"
      },
      "source": [
        "for images, labels in train_loader:\n",
        "    print('images.shape:', images.shape)\n",
        "    print('label.shape:', labels.shape)\n",
        "    plt.figure(figsize=(16,8))\n",
        "    plt.axis('off')\n",
        "    plt.imshow(tv.utils.make_grid(images, nrow=16).permute((1, 2, 0)))\n",
        "    break"
      ],
      "execution_count": 12,
      "outputs": [
        {
          "output_type": "stream",
          "name": "stdout",
          "text": [
            "images.shape: torch.Size([32, 1, 28, 28])\n",
            "label.shape: torch.Size([32])\n"
          ]
        },
        {
          "output_type": "display_data",
          "data": {
            "image/png": "[encoded data removed]",
            "text/plain": [
              "<Figure size 1152x576 with 1 Axes>"
            ]
          },
          "metadata": {
            "needs_background": "light"
          }
        }
      ]
    },
    {
      "cell_type": "markdown",
      "metadata": {
        "id": "0q1600Hbm2Di"
      },
      "source": [
        "## Model"
      ]
    },
    {
      "cell_type": "code",
      "metadata": {
        "id": "ONq9yu7ahVV-"
      },
      "source": [
        "def accuracy(outputs, labels):\n",
        "    _, preds = torch.max(outputs, dim=1)\n",
        "    return torch.tensor(torch.sum(preds == labels).item() / len(preds))"
      ],
      "execution_count": 13,
      "outputs": []
    },
    {
      "cell_type": "code",
      "metadata": {
        "id": "8iMzCKnnDoaA"
      },
      "source": [
        "class MnistModel(nn.Module):\n",
        "  def __init__(self, input_shape=(28*28), output_shape=10):\n",
        "    super().__init__()\n",
        "    self.layer1 = nn.Linear(input_shape, 512)\n",
        "    self.layer2 = nn.Linear(512, 128)\n",
        "    self.layer3 = nn.Linear(128, 64)\n",
        "    self.out_layer = nn.Linear(64, output_shape)\n",
        "\n",
        "  def forward(self, xb):\n",
        "    x = xb.view(xb.size(0), -1)\n",
        "    x = self.layer1(x)\n",
        "    x = F.relu(x)\n",
        "\n",
        "    x = self.layer2(x)\n",
        "    x = F.relu(x)\n",
        "\n",
        "    x = self.layer3(x)\n",
        "    x = F.relu(x)\n",
        "\n",
        "    out = self.out_layer(x)\n",
        "    return out\n",
        "\n",
        "  def training_step(self, batch):\n",
        "    images, labels = batch\n",
        "    out = self(images)\n",
        "    loss = F.cross_entropy(out, labels)\n",
        "    return loss\n",
        "    acc = accuracy(out, labels)\n",
        "    return {\n",
        "        \"val_loss\": loss,\n",
        "        \"val_acc\": acc\n",
        "    }\n",
        "\n",
        "  def validation_step(self, batch):\n",
        "    images, labels = batch\n",
        "    out = self(images)\n",
        "    loss = F.cross_entropy(out, labels)\n",
        "    acc = accuracy(out, labels)\n",
        "    return {\n",
        "        \"val_loss\": loss,\n",
        "        \"val_acc\": acc\n",
        "    }\n",
        "\n",
        "  def validation_epoch_end(self, outputs):\n",
        "    batch_losses = [x['val_loss'] for x in outputs]\n",
        "    epoch_loss = torch.stack(batch_losses).mean()\n",
        "    batch_accs = [x['val_acc'] for x in outputs]\n",
        "    epoch_acc = torch.stack(batch_accs).mean()\n",
        "    return {\n",
        "      \"val_loss\": epoch_loss.item(),\n",
        "      \"val_acc\": epoch_acc.item()\n",
        "    }\n",
        "\n",
        "    \n",
        "  def epoch_end(self, epoch, total_epochs, result):\n",
        "    print(\"Epoch [{}/{}], val_loss: {:.4f}, val_acc: {:.4f}\".format(epoch+1, total_epochs, result[\"val_loss\"], result[\"val_acc\"]))\n"
      ],
      "execution_count": 14,
      "outputs": []
    },
    {
      "cell_type": "code",
      "metadata": {
        "id": "YGteQli5hMGy"
      },
      "source": [
        "input_shape = 28 * 28\n",
        "output_shape = 10"
      ],
      "execution_count": 15,
      "outputs": []
    },
    {
      "cell_type": "code",
      "metadata": {
        "id": "qrmucc5sjUsz"
      },
      "source": [
        "model = MnistModel(\n",
        "    input_shape,\n",
        "    output_shape\n",
        ")"
      ],
      "execution_count": 16,
      "outputs": []
    },
    {
      "cell_type": "code",
      "metadata": {
        "id": "bp5g6Zexjxc1"
      },
      "source": [
        "from torchsummary import summary"
      ],
      "execution_count": 17,
      "outputs": []
    },
    {
      "cell_type": "code",
      "metadata": {
        "colab": {
          "base_uri": "https://localhost:8080/"
        },
        "id": "kuOXFRQYj1lQ",
        "outputId": "1fcb7b76-f96b-4cae-bae9-68dc9c29c898"
      },
      "source": [
        "summary(model, input_size=(1, input_shape))"
      ],
      "execution_count": 18,
      "outputs": [
        {
          "output_type": "stream",
          "name": "stdout",
          "text": [
            "----------------------------------------------------------------\n",
            "        Layer (type)               Output Shape         Param #\n",
            "================================================================\n",
            "            Linear-1                  [-1, 512]         401,920\n",
            "            Linear-2                  [-1, 128]          65,664\n",
            "            Linear-3                   [-1, 64]           8,256\n",
            "            Linear-4                   [-1, 10]             650\n",
            "================================================================\n",
            "Total params: 476,490\n",
            "Trainable params: 476,490\n",
            "Non-trainable params: 0\n",
            "----------------------------------------------------------------\n",
            "Input size (MB): 0.00\n",
            "Forward/backward pass size (MB): 0.01\n",
            "Params size (MB): 1.82\n",
            "Estimated Total Size (MB): 1.83\n",
            "----------------------------------------------------------------\n"
          ]
        }
      ]
    },
    {
      "cell_type": "code",
      "metadata": {
        "colab": {
          "base_uri": "https://localhost:8080/"
        },
        "id": "VOeovMFSj4lR",
        "outputId": "8592ad2b-5a83-4de5-9962-5639c65b1e39"
      },
      "source": [
        "for t in model.parameters():\n",
        "    print(t.shape)"
      ],
      "execution_count": 19,
      "outputs": [
        {
          "output_type": "stream",
          "name": "stdout",
          "text": [
            "torch.Size([512, 784])\n",
            "torch.Size([512])\n",
            "torch.Size([128, 512])\n",
            "torch.Size([128])\n",
            "torch.Size([64, 128])\n",
            "torch.Size([64])\n",
            "torch.Size([10, 64])\n",
            "torch.Size([10])\n"
          ]
        }
      ]
    },
    {
      "cell_type": "code",
      "metadata": {
        "colab": {
          "base_uri": "https://localhost:8080/"
        },
        "id": "RuOBeE9ikde8",
        "outputId": "49ea0001-9158-40c9-8ab2-cd8beb0ab0d1"
      },
      "source": [
        "for images, labels in train_loader:\n",
        "  outputs = model(images)\n",
        "  loss = F.cross_entropy(outputs, labels)\n",
        "  print(\"Loss: \", loss)\n",
        "  print('outputs.shape : ', outputs.shape)\n",
        "  print('Sample outputs :\\n', outputs[:2].data)\n",
        "  break"
      ],
      "execution_count": 20,
      "outputs": [
        {
          "output_type": "stream",
          "name": "stdout",
          "text": [
            "Loss:  tensor(2.3129, grad_fn=<NllLossBackward>)\n",
            "outputs.shape :  torch.Size([32, 10])\n",
            "Sample outputs :\n",
            " tensor([[-0.0491,  0.0717, -0.0031, -0.0699, -0.0342, -0.1228, -0.0334,  0.0666,\n",
            "          0.1227, -0.0447],\n",
            "        [-0.0358,  0.0812,  0.0039, -0.0661, -0.0240, -0.1181, -0.0262,  0.0633,\n",
            "          0.1339, -0.0374]])\n"
          ]
        }
      ]
    },
    {
      "cell_type": "markdown",
      "metadata": {
        "id": "zYGmYHQnm53R"
      },
      "source": [
        "## To Device"
      ]
    },
    {
      "cell_type": "code",
      "metadata": {
        "colab": {
          "base_uri": "https://localhost:8080/"
        },
        "id": "ukIiU_9wl57m",
        "outputId": "141c8800-c08d-40ed-82c4-961d8b0f5760"
      },
      "source": [
        "device = \"cuda\" if torch.cuda.is_available() else \"cpu\"\n",
        "print(device)"
      ],
      "execution_count": 21,
      "outputs": [
        {
          "output_type": "stream",
          "name": "stdout",
          "text": [
            "cpu\n"
          ]
        }
      ]
    },
    {
      "cell_type": "code",
      "metadata": {
        "id": "AmLFUOIbmKo7"
      },
      "source": [
        "def to_device(data, device):\n",
        "    \"\"\"Move tensor(s) to chosen device\"\"\"\n",
        "    if isinstance(data, (list,tuple)):\n",
        "        return [to_device(x, device) for x in data]\n",
        "    return data.to(device, non_blocking=True)"
      ],
      "execution_count": 22,
      "outputs": []
    },
    {
      "cell_type": "code",
      "metadata": {
        "id": "2jQKLBnomU-H"
      },
      "source": [
        "class DeviceDataLoader():\n",
        "    \"\"\"Wrap a dataloader to move data to a device\"\"\"\n",
        "    def __init__(self, dl, device):\n",
        "        self.dl = dl\n",
        "        self.device = device\n",
        "        \n",
        "    def __iter__(self):\n",
        "        \"\"\"Yield a batch of data after moving it to device\"\"\"\n",
        "        for b in self.dl: \n",
        "            yield to_device(b, self.device)\n",
        "\n",
        "    def __len__(self):\n",
        "        \"\"\"Number of batches\"\"\"\n",
        "        return len(self.dl)"
      ],
      "execution_count": 23,
      "outputs": []
    },
    {
      "cell_type": "code",
      "metadata": {
        "id": "Z1e9uNiXmor2"
      },
      "source": [
        "train_loader = DeviceDataLoader(train_loader, device)\n",
        "val_loader = DeviceDataLoader(val_loader, device)"
      ],
      "execution_count": 24,
      "outputs": []
    },
    {
      "cell_type": "code",
      "metadata": {
        "colab": {
          "base_uri": "https://localhost:8080/"
        },
        "id": "rkwzTdXBmpUd",
        "outputId": "18efbc9c-6bff-4fed-d6a6-d426406fa26e"
      },
      "source": [
        "for xb, yb in val_loader:\n",
        "    print('xb.device:', xb.device)\n",
        "    print('yb:', yb)\n",
        "    break"
      ],
      "execution_count": 25,
      "outputs": [
        {
          "output_type": "stream",
          "name": "stdout",
          "text": [
            "xb.device: cpu\n",
            "yb: tensor([1, 3, 0, 5, 9, 1, 4, 1, 6, 3, 2, 2, 6, 6, 3, 0, 3, 9, 6, 2, 7, 3, 1, 7,\n",
            "        2, 8, 0, 9, 6, 3, 7, 7])\n"
          ]
        }
      ]
    },
    {
      "cell_type": "markdown",
      "metadata": {
        "id": "5m19voaom-f0"
      },
      "source": [
        "## Train"
      ]
    },
    {
      "cell_type": "code",
      "metadata": {
        "id": "xVQT514Rmrwv"
      },
      "source": [
        "def evaluate(model, val_loader):\n",
        "  outputs = [ model.validation_step(batch) for batch in val_loader]\n",
        "  return model.validation_epoch_end(outputs)"
      ],
      "execution_count": 26,
      "outputs": []
    },
    {
      "cell_type": "code",
      "metadata": {
        "id": "VLc-yZ_GniVN"
      },
      "source": [
        "def fit(model, train_loader, val_loader, epochs=10, lr=0.001, optim_func=torch.optim.Adam):\n",
        "  history = []\n",
        "  optimizer = optim_func(model.parameters(), lr)\n",
        "  for epoch in range(epochs):\n",
        "    for batch in train_loader:\n",
        "      loss = model.training_step(batch)\n",
        "      loss.backward()\n",
        "      optimizer.step()\n",
        "      optimizer.zero_grad()\n",
        "    \n",
        "    result = evaluate(model, val_loader)\n",
        "    model.epoch_end(epoch, epochs, result)\n",
        "    history.append(result)\n",
        "\n",
        "  return history\n"
      ],
      "execution_count": 27,
      "outputs": []
    },
    {
      "cell_type": "code",
      "metadata": {
        "colab": {
          "base_uri": "https://localhost:8080/"
        },
        "id": "XWIdwSQapOL-",
        "outputId": "3b552e3b-23ab-4483-8bcf-fdc91c31ed2a"
      },
      "source": [
        "to_device(model, device=device)"
      ],
      "execution_count": 28,
      "outputs": [
        {
          "output_type": "execute_result",
          "data": {
            "text/plain": [
              "MnistModel(\n",
              "  (layer1): Linear(in_features=784, out_features=512, bias=True)\n",
              "  (layer2): Linear(in_features=512, out_features=128, bias=True)\n",
              "  (layer3): Linear(in_features=128, out_features=64, bias=True)\n",
              "  (out_layer): Linear(in_features=64, out_features=10, bias=True)\n",
              ")"
            ]
          },
          "metadata": {},
          "execution_count": 28
        }
      ]
    },
    {
      "cell_type": "code",
      "metadata": {
        "colab": {
          "base_uri": "https://localhost:8080/"
        },
        "id": "sRBRDRTPpuEL",
        "outputId": "c6b81a48-d3d1-4971-8410-229e044673ba"
      },
      "source": [
        "history = [evaluate(model, val_loader)]\n",
        "history"
      ],
      "execution_count": 29,
      "outputs": [
        {
          "output_type": "execute_result",
          "data": {
            "text/plain": [
              "[{'val_acc': 0.083984375, 'val_loss': 2.3029747009277344}]"
            ]
          },
          "metadata": {},
          "execution_count": 29
        }
      ]
    },
    {
      "cell_type": "code",
      "metadata": {
        "colab": {
          "base_uri": "https://localhost:8080/"
        },
        "id": "lwWd1WNApxPv",
        "outputId": "c6613fa4-2172-418d-8fbc-1920203e08f0"
      },
      "source": [
        "history += fit(model, train_loader, val_loader, epochs=10, lr=0.001, optim_func=torch.optim.Adam)\n"
      ],
      "execution_count": 30,
      "outputs": [
        {
          "output_type": "stream",
          "name": "stdout",
          "text": [
            "Epoch [1/10], val_loss: 0.0991, val_acc: 0.9648\n",
            "Epoch [2/10], val_loss: 0.0939, val_acc: 0.9727\n",
            "Epoch [3/10], val_loss: 0.0982, val_acc: 0.9746\n",
            "Epoch [4/10], val_loss: 0.0991, val_acc: 0.9795\n",
            "Epoch [5/10], val_loss: 0.1075, val_acc: 0.9736\n",
            "Epoch [6/10], val_loss: 0.1237, val_acc: 0.9756\n",
            "Epoch [7/10], val_loss: 0.1131, val_acc: 0.9688\n",
            "Epoch [8/10], val_loss: 0.1097, val_acc: 0.9824\n",
            "Epoch [9/10], val_loss: 0.1022, val_acc: 0.9824\n",
            "Epoch [10/10], val_loss: 0.1117, val_acc: 0.9766\n"
          ]
        }
      ]
    },
    {
      "cell_type": "code",
      "metadata": {
        "id": "FHYfF7Lfr_hH"
      },
      "source": [
        "torch.save(model, '/content/drive/MyDrive/MNIST/mnist_pytorch.pth')"
      ],
      "execution_count": 32,
      "outputs": []
    }
  ]
}